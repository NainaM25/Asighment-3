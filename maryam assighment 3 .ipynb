{
 "cells": [
  {
   "cell_type": "code",
   "execution_count": 1,
   "id": "648a9c33",
   "metadata": {},
   "outputs": [
    {
     "name": "stdout",
     "output_type": "stream",
     "text": [
      "Twinkle, twinkle, little star, \n",
      "\tHow I wonder what you are! \n",
      "\t\tUp above the world so high, \n",
      "\t\tLike a diamond in the sky. \n",
      "Twinkle, twinkle, little star, \n",
      "\tHow I wonder what you are!\n"
     ]
    }
   ],
   "source": [
    "#Write a python program to print the following strint in a specific format(see the output).\n",
    "print(\"Twinkle, twinkle, little star, \\n\\tHow I wonder what you are! \\n\\t\\tUp above the world so high, \\n\\t\\tLike a diamond in the sky. \\nTwinkle, twinkle, little star, \\n\\tHow I wonder what you are!\")"
   ]
  },
  {
   "cell_type": "code",
   "execution_count": 2,
   "id": "e4a24b41",
   "metadata": {},
   "outputs": [
    {
     "name": "stdout",
     "output_type": "stream",
     "text": [
      "3.8.8 (default, Apr 13 2021, 15:08:03) [MSC v.1916 64 bit (AMD64)]\n"
     ]
    }
   ],
   "source": [
    "#Write a python program to get the python version you are using.\n",
    "\n",
    "import sys\n",
    "print(sys.version)"
   ]
  },
  {
   "cell_type": "code",
   "execution_count": 3,
   "id": "e8afbbcb",
   "metadata": {},
   "outputs": [
    {
     "name": "stdout",
     "output_type": "stream",
     "text": [
      "Current date and time : \n",
      "2021-10-24 18:20:35\n"
     ]
    }
   ],
   "source": [
    "#Write a python program to display the current date and time.\n",
    "\n",
    "import datetime\n",
    "now = datetime.datetime.now()\n",
    "print (\"Current date and time : \")\n",
    "print (now.strftime(\"%Y-%m-%d %H:%M:%S\"))"
   ]
  },
  {
   "cell_type": "code",
   "execution_count": 6,
   "id": "cf02dcdf",
   "metadata": {},
   "outputs": [
    {
     "name": "stdout",
     "output_type": "stream",
     "text": [
      "input the radius of the circle: 9\n",
      "the area of the circle with radius9.0is:254.46900494077323\n"
     ]
    }
   ],
   "source": [
    "#Write a python program which accepts the radius of a circle from the user and compute the area.\n",
    "\n",
    "from math import pi\n",
    "r=float(input (\"input the radius of the circle: \"))\n",
    "print(\"the area of the circle with radius\"+str(r)+\"is:\"+ str(pi*r**2))"
   ]
  },
  {
   "cell_type": "code",
   "execution_count": 7,
   "id": "e68fa53f",
   "metadata": {},
   "outputs": [
    {
     "name": "stdout",
     "output_type": "stream",
     "text": [
      "Input your First Name : Maryam\n",
      "Input your Last Name : Eman\n",
      "Hello  Eman Maryam\n"
     ]
    }
   ],
   "source": [
    "#Write a python program which accept the users first and last name and print them in reverse order with a space between them.\n",
    "\n",
    "firstname = input(\"Input your First Name : \")\n",
    "lastname = input(\"Input your Last Name : \")\n",
    "print (\"Hello  \" + lastname + \" \" + firstname)"
   ]
  },
  {
   "cell_type": "code",
   "execution_count": 8,
   "id": "cc7231aa",
   "metadata": {},
   "outputs": [
    {
     "name": "stdout",
     "output_type": "stream",
     "text": [
      "enter first number:8\n",
      "enter second number:13\n",
      "sum: 21\n"
     ]
    }
   ],
   "source": [
    "#Write a python program which takes two inputs from users and print them addition\n",
    "a=int(input(\"enter first number:\"))\n",
    "b=int(input(\"enter second number:\"))\n",
    "sum=a+b\n",
    "print(\"sum:\",sum)"
   ]
  },
  {
   "cell_type": "code",
   "execution_count": 9,
   "id": "58bf024b",
   "metadata": {},
   "outputs": [
    {
     "name": "stdout",
     "output_type": "stream",
     "text": [
      "Enter marks of the first subject: 78\n",
      "Enter marks of the second subject: 76\n",
      "Enter marks of the third subject: 67\n",
      "Enter marks of the fourth subject: 77\n",
      "Enter marks of the fifth subject: 78\n",
      "75.2\n",
      "A\n"
     ]
    }
   ],
   "source": [
    "#Write a program which takes 5 inputs from users for different subjetcs marks,total it and generate mark sheet using grades?\n",
    "eng=int(input(\"Enter marks of the first subject: \"))\n",
    "chem=int(input(\"Enter marks of the second subject: \"))\n",
    "isl=int(input(\"Enter marks of the third subject: \"))\n",
    "bio=int(input(\"Enter marks of the fourth subject: \"))\n",
    "phy=int(input(\"Enter marks of the fifth subject: \"))\n",
    "total=eng+chem+isl+bio+phy;\n",
    "percentage=total/500*100;\n",
    "if percentage <=100 and percentage>0:\n",
    "    print(percentage);\n",
    "else:\n",
    "    print(\"check your marks\");\n",
    "if percentage<=100 and percentage>=80:\n",
    "    print(\"A+\");\n",
    "elif percentage<=79 and percentage>=70:\n",
    "     print(\"A\");\n",
    "elif percentage<=69 and percentage>=60:\n",
    "     print(\"B\");\n",
    "elif percentage<=59 and percentage>=50:\n",
    "     print(\"C\");\n",
    "elif percentage<=49 and percentage>=40:\n",
    "     print(\"D\");\n",
    "elif percentage<=39 and percentage>=0:\n",
    "     print(\"Fail\");"
   ]
  },
  {
   "cell_type": "code",
   "execution_count": 10,
   "id": "c6578e2d",
   "metadata": {},
   "outputs": [
    {
     "name": "stdout",
     "output_type": "stream",
     "text": [
      "enter a number 10\n",
      "number is even\n"
     ]
    }
   ],
   "source": [
    "#Write a program which take input from user and identify that the given  number is even or odd.\n",
    "num=int(input(\"enter a number \"))\n",
    "if(num%2==0):\n",
    "    print(\"number is even\")\n",
    "else:\n",
    "    print(\"number is odd\")"
   ]
  },
  {
   "cell_type": "code",
   "execution_count": 11,
   "id": "aaf298ae",
   "metadata": {},
   "outputs": [
    {
     "name": "stdout",
     "output_type": "stream",
     "text": [
      "6\n"
     ]
    }
   ],
   "source": [
    "#Write a python program which print the lenght of the list?\n",
    "inp_lst = ['kiran','maryam','nasreen','erum','komal','saima']\n",
    "size = len(inp_lst)\n",
    "print(size)"
   ]
  },
  {
   "cell_type": "code",
   "execution_count": 12,
   "id": "023a01e7",
   "metadata": {},
   "outputs": [
    {
     "name": "stdout",
     "output_type": "stream",
     "text": [
      "Sum of all elements in given list:  67\n"
     ]
    }
   ],
   "source": [
    "#Write a python program to sum all the numeric items in alist?\n",
    "total = 0\n",
    "ele = 0\n",
    "list1 = [16, 7, 16, 5, 23] \n",
    "\n",
    "while(ele < len(list1)):\n",
    "    total = total + list1[ele]\n",
    "    ele += 1\n",
    "     \n",
    "print(\"Sum of all elements in given list: \", total)"
   ]
  },
  {
   "cell_type": "code",
   "execution_count": 13,
   "id": "d4e0e148",
   "metadata": {},
   "outputs": [
    {
     "name": "stdout",
     "output_type": "stream",
     "text": [
      "largest number is: 23\n"
     ]
    }
   ],
   "source": [
    "#Write a python program to get the largest numvber from a numeric list.\n",
    "list1 = [16, 7, 16, 5, 23] \n",
    "print(\"largest number is:\",max(list1))"
   ]
  },
  {
   "cell_type": "code",
   "execution_count": 14,
   "id": "d64d8df9",
   "metadata": {},
   "outputs": [
    {
     "name": "stdout",
     "output_type": "stream",
     "text": [
      "1\n",
      "1\n",
      "2\n",
      "3\n"
     ]
    }
   ],
   "source": [
    "#write a program that print out all the elements of the list that are less than 5.\n",
    "a=[1,1,2,3,8,13,21,34,55,89]\n",
    "for i in a:\n",
    "    if i < 5:\n",
    "        print(i)"
   ]
  },
  {
   "cell_type": "code",
   "execution_count": null,
   "id": "0319a7d0",
   "metadata": {},
   "outputs": [],
   "source": []
  }
 ],
 "metadata": {
  "kernelspec": {
   "display_name": "Python 3",
   "language": "python",
   "name": "python3"
  },
  "language_info": {
   "codemirror_mode": {
    "name": "ipython",
    "version": 3
   },
   "file_extension": ".py",
   "mimetype": "text/x-python",
   "name": "python",
   "nbconvert_exporter": "python",
   "pygments_lexer": "ipython3",
   "version": "3.8.8"
  }
 },
 "nbformat": 4,
 "nbformat_minor": 5
}
